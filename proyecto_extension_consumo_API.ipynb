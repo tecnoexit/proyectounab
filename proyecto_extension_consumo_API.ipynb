{
  "cells": [
    {
      "cell_type": "code",
      "execution_count": 72,
      "metadata": {
        "id": "coRo98WfpN5a"
      },
      "outputs": [],
      "source": [
        "import requests\n",
        "import pandas as pd\n",
        "import matplotlib.pyplot as plt\n",
        "import datetime"
      ]
    },
    {
      "cell_type": "code",
      "execution_count": 73,
      "metadata": {
        "id": "PXK8dvbipTCn"
      },
      "outputs": [],
      "source": [
        "url = 'http://api.openweathermap.org/data/2.5/weather?'  #lat=-34.798094&lon=-58.384517&exclude=hourly,daily&appid={API key}\n",
        "api_key = '068679015dfe8935454115faabc2a3ff'"
      ]
    },
    {
      "cell_type": "code",
      "execution_count": 74,
      "metadata": {
        "id": "bmNEM9kOq-mv"
      },
      "outputs": [],
      "source": [
        "# Parámetros de la solicitud\n",
        "params = {\n",
        "    #'lat': -43.79,  # Cambia 'Ciudad,País' por la ciudad y país que desees\n",
        "    #'lon': -58.38,\n",
        "    'q':['Almirante Brown','Argentina'],\n",
        "    'lang':'es',\n",
        "    'appid': api_key,\n",
        "    #'exclude':['minutely','alerts'],\n",
        "    'units': 'metric'  # Cambia a 'imperial' si prefieres unidades en Fahrenheit\n",
        "}"
      ]
    },
    {
      "cell_type": "code",
      "execution_count": 75,
      "metadata": {
        "id": "-i20_zSbrpKL"
      },
      "outputs": [],
      "source": [
        "# Realizar la solicitud GET a la API\n",
        "response = requests.get(url, params=params)\n",
        "data = response.json()"
      ]
    },
    {
      "cell_type": "code",
      "execution_count": 76,
      "metadata": {
        "colab": {
          "base_uri": "https://localhost:8080/"
        },
        "id": "oHiQNPoOsKa1",
        "outputId": "5fa51d4f-6762-46f2-9b9c-ebb30236d4f5"
      },
      "outputs": [
        {
          "data": {
            "text/plain": [
              "{'coord': {'lon': -58.45, 'lat': -34.6667},\n",
              " 'weather': [{'id': 804,\n",
              "   'main': 'Clouds',\n",
              "   'description': 'nubes',\n",
              "   'icon': '04n'}],\n",
              " 'base': 'stations',\n",
              " 'main': {'temp': 25.01,\n",
              "  'feels_like': 25.26,\n",
              "  'temp_min': 21.82,\n",
              "  'temp_max': 25.66,\n",
              "  'pressure': 1017,\n",
              "  'humidity': 65},\n",
              " 'visibility': 10000,\n",
              " 'wind': {'speed': 3.13, 'deg': 74, 'gust': 4.47},\n",
              " 'clouds': {'all': 100},\n",
              " 'dt': 1708737257,\n",
              " 'sys': {'type': 2,\n",
              "  'id': 2008409,\n",
              "  'country': 'AR',\n",
              "  'sunrise': 1708680919,\n",
              "  'sunset': 1708727969},\n",
              " 'timezone': -10800,\n",
              " 'id': 3436395,\n",
              " 'name': 'Almirante Brown',\n",
              " 'cod': 200}"
            ]
          },
          "execution_count": 76,
          "metadata": {},
          "output_type": "execute_result"
        }
      ],
      "source": [
        "data"
      ]
    },
    {
      "cell_type": "code",
      "execution_count": 77,
      "metadata": {
        "colab": {
          "base_uri": "https://localhost:8080/",
          "height": 200
        },
        "id": "skOfnYWHuat-",
        "outputId": "7fb7d922-72c7-4bdf-96bc-ab1d175c87a4"
      },
      "outputs": [
        {
          "data": {
            "text/html": [
              "<div>\n",
              "<style scoped>\n",
              "    .dataframe tbody tr th:only-of-type {\n",
              "        vertical-align: middle;\n",
              "    }\n",
              "\n",
              "    .dataframe tbody tr th {\n",
              "        vertical-align: top;\n",
              "    }\n",
              "\n",
              "    .dataframe thead th {\n",
              "        text-align: right;\n",
              "    }\n",
              "</style>\n",
              "<table border=\"1\" class=\"dataframe\">\n",
              "  <thead>\n",
              "    <tr style=\"text-align: right;\">\n",
              "      <th></th>\n",
              "      <th>weather</th>\n",
              "      <th>base</th>\n",
              "      <th>visibility</th>\n",
              "      <th>dt</th>\n",
              "      <th>timezone</th>\n",
              "      <th>id</th>\n",
              "      <th>name</th>\n",
              "      <th>cod</th>\n",
              "      <th>coord.lon</th>\n",
              "      <th>coord.lat</th>\n",
              "      <th>...</th>\n",
              "      <th>main.humidity</th>\n",
              "      <th>wind.speed</th>\n",
              "      <th>wind.deg</th>\n",
              "      <th>wind.gust</th>\n",
              "      <th>clouds.all</th>\n",
              "      <th>sys.type</th>\n",
              "      <th>sys.id</th>\n",
              "      <th>sys.country</th>\n",
              "      <th>sys.sunrise</th>\n",
              "      <th>sys.sunset</th>\n",
              "    </tr>\n",
              "  </thead>\n",
              "  <tbody>\n",
              "    <tr>\n",
              "      <th>0</th>\n",
              "      <td>[{'id': 804, 'main': 'Clouds', 'description': ...</td>\n",
              "      <td>stations</td>\n",
              "      <td>10000</td>\n",
              "      <td>1708737257</td>\n",
              "      <td>-10800</td>\n",
              "      <td>3436395</td>\n",
              "      <td>Almirante Brown</td>\n",
              "      <td>200</td>\n",
              "      <td>-58.45</td>\n",
              "      <td>-34.6667</td>\n",
              "      <td>...</td>\n",
              "      <td>65</td>\n",
              "      <td>3.13</td>\n",
              "      <td>74</td>\n",
              "      <td>4.47</td>\n",
              "      <td>100</td>\n",
              "      <td>2</td>\n",
              "      <td>2008409</td>\n",
              "      <td>AR</td>\n",
              "      <td>1708680919</td>\n",
              "      <td>1708727969</td>\n",
              "    </tr>\n",
              "  </tbody>\n",
              "</table>\n",
              "<p>1 rows × 25 columns</p>\n",
              "</div>"
            ],
            "text/plain": [
              "                                             weather      base  visibility  \\\n",
              "0  [{'id': 804, 'main': 'Clouds', 'description': ...  stations       10000   \n",
              "\n",
              "           dt  timezone       id             name  cod  coord.lon  coord.lat  \\\n",
              "0  1708737257    -10800  3436395  Almirante Brown  200     -58.45   -34.6667   \n",
              "\n",
              "   ...  main.humidity  wind.speed  wind.deg  wind.gust  clouds.all  sys.type  \\\n",
              "0  ...             65        3.13        74       4.47         100         2   \n",
              "\n",
              "    sys.id  sys.country  sys.sunrise  sys.sunset  \n",
              "0  2008409           AR   1708680919  1708727969  \n",
              "\n",
              "[1 rows x 25 columns]"
            ]
          },
          "execution_count": 77,
          "metadata": {},
          "output_type": "execute_result"
        }
      ],
      "source": [
        "\n",
        "\n",
        "# Define el JSON proporcionado\n",
        "\n",
        "\n",
        "# Crear DataFrame\n",
        "df = pd.json_normalize(data)\n",
        "\n",
        "# Mostrar el DataFrame\n",
        "df.head(4)"
      ]
    },
    {
      "cell_type": "markdown",
      "metadata": {
        "id": "AFNJ4OIF-aAr"
      },
      "source": [
        "convierto la fecha unix a formato tradicional y lo ajusto a la zona horaria de la cuidad"
      ]
    },
    {
      "cell_type": "code",
      "execution_count": 78,
      "metadata": {
        "id": "pIskaqwE635b"
      },
      "outputs": [
        {
          "name": "stderr",
          "output_type": "stream",
          "text": [
            "/tmp/ipykernel_15609/3111975765.py:1: FutureWarning: Calling int on a single element Series is deprecated and will raise a TypeError in the future. Use int(ser.iloc[0]) instead\n",
            "  fecha_unix = int(df['dt'])\n"
          ]
        }
      ],
      "source": [
        "fecha_unix = int(df['dt'])\n",
        "# Convertir la fecha Unix a formato legible\n",
        "fecha_legible = datetime.datetime.utcfromtimestamp(fecha_unix)\n"
      ]
    },
    {
      "cell_type": "code",
      "execution_count": 79,
      "metadata": {
        "id": "mHmKlFIf9sYK"
      },
      "outputs": [],
      "source": [
        "# Zona horaria UTC-3\n",
        "utc_offset = datetime.timedelta(hours=-3)\n",
        "fecha_legible = fecha_legible + utc_offset #acomodamos la zona horaria"
      ]
    },
    {
      "cell_type": "code",
      "execution_count": 80,
      "metadata": {
        "colab": {
          "base_uri": "https://localhost:8080/"
        },
        "id": "CFIsvy9R8tuO",
        "outputId": "1073986e-9c57-4bed-9ff5-56f1bc566c0f"
      },
      "outputs": [
        {
          "name": "stdout",
          "output_type": "stream",
          "text": [
            "2024-02-23 22:14:17\n"
          ]
        }
      ],
      "source": [
        "print(fecha_legible)"
      ]
    },
    {
      "cell_type": "markdown",
      "metadata": {
        "id": "w0fV4NU4-nOA"
      },
      "source": [
        "extraemos los datos que necesitamos\n"
      ]
    },
    {
      "cell_type": "code",
      "execution_count": 81,
      "metadata": {
        "id": "tP6fa2HH40PT"
      },
      "outputs": [],
      "source": [
        "temperatura_ = df['main.temp']\n",
        "sensacion_termica_ = df['main.feels_like']\n",
        "presion_ = df['main.pressure']\n",
        "fecha_ = fecha_legible"
      ]
    },
    {
      "cell_type": "code",
      "execution_count": 82,
      "metadata": {
        "colab": {
          "base_uri": "https://localhost:8080/"
        },
        "id": "c68HUFlpcHy3",
        "outputId": "37955477-e994-4d1e-96d0-5c00700dd0bb"
      },
      "outputs": [
        {
          "data": {
            "text/plain": [
              "datetime.datetime(2024, 2, 23, 22, 14, 17)"
            ]
          },
          "execution_count": 82,
          "metadata": {},
          "output_type": "execute_result"
        }
      ],
      "source": [
        "fecha_"
      ]
    },
    {
      "cell_type": "code",
      "execution_count": 83,
      "metadata": {},
      "outputs": [
        {
          "data": {
            "text/plain": [
              "dtype('float64')"
            ]
          },
          "execution_count": 83,
          "metadata": {},
          "output_type": "execute_result"
        }
      ],
      "source": [
        "temperatura.dtype"
      ]
    },
    {
      "cell_type": "markdown",
      "metadata": {
        "id": "OTwqLY7k-0iw"
      },
      "source": [
        "intentamos conectar con la base de datos"
      ]
    },
    {
      "cell_type": "code",
      "execution_count": 84,
      "metadata": {
        "id": "gizDFbjlApUC"
      },
      "outputs": [],
      "source": [
        "# Definir los valores a insertar\n",
        "fecha = pd.to_datetime(fecha_).strftime('%Y-%m-%d')  # Convertir a formato YYYY-MM-DD\n",
        "temperatura = temperatura_[0]\n",
        "sensacion_termica = sensacion_termica_[0]\n",
        "presion = presion_[0]"
      ]
    },
    {
      "cell_type": "code",
      "execution_count": 85,
      "metadata": {},
      "outputs": [
        {
          "data": {
            "text/plain": [
              "'2024-02-23'"
            ]
          },
          "execution_count": 85,
          "metadata": {},
          "output_type": "execute_result"
        }
      ],
      "source": [
        "fecha"
      ]
    },
    {
      "cell_type": "code",
      "execution_count": 86,
      "metadata": {},
      "outputs": [
        {
          "name": "stdout",
          "output_type": "stream",
          "text": [
            "Registro insertado exitosamente!\n"
          ]
        }
      ],
      "source": [
        "import mysql.connector\n",
        "\n",
        "# Conectarse al servidor MySQL\n",
        "connection = mysql.connector.connect(\n",
        "    host=\"localhost\",\n",
        "    user=\"root\",\n",
        "    password=\"GibraN@1980\",\n",
        "    database=\"sensor\"\n",
        ")\n",
        "\n",
        "# Crear el cursor\n",
        "cursor = connection.cursor()\n",
        "\n",
        "# Definir los valores a insertar\n",
        "#fecha = \"2024-02-23\"\n",
        "#temperatura = 25.5\n",
        "#sensacion_termica = 26.0\n",
        "#presion = 1013.0\n",
        "\n",
        "# Crear la consulta SQL\n",
        "sql = \"\"\"\n",
        "INSERT INTO BROWN (fecha, temperatura, sensacion_termica, presion)\n",
        "VALUES (%s, %s, %s, %s)\n",
        "\"\"\"\n",
        "\n",
        "# Ejecutar la consulta con los valores\n",
        "cursor.execute(sql, (fecha, float(temperatura), float(sensacion_termica), float(presion)))\n",
        "\n",
        "\n",
        "# Confirmar la inserción\n",
        "connection.commit()\n",
        "\n",
        "# Cerrar cursor y conexión\n",
        "cursor.close()\n",
        "connection.close()\n",
        "\n",
        "print(\"Registro insertado exitosamente!\")\n"
      ]
    }
  ],
  "metadata": {
    "colab": {
      "provenance": []
    },
    "kernelspec": {
      "display_name": "Python 3",
      "name": "python3"
    },
    "language_info": {
      "codemirror_mode": {
        "name": "ipython",
        "version": 3
      },
      "file_extension": ".py",
      "mimetype": "text/x-python",
      "name": "python",
      "nbconvert_exporter": "python",
      "pygments_lexer": "ipython3",
      "version": "3.10.12"
    }
  },
  "nbformat": 4,
  "nbformat_minor": 0
}
